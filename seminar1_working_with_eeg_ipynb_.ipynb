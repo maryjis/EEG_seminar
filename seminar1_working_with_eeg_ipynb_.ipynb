{
 "cells": [
  {
   "cell_type": "markdown",
   "metadata": {
    "id": "X-EA3aKcDSO3"
   },
   "source": [
    "# Seminar 1.  Анализ EEG \n",
    "\n",
    "[![Open In Colab](https://colab.research.google.com/assets/colab-badge.svg)](https://colab.research.google.com/github/adasegroup/NEUROML2020/blob/seminar1/seminar1/seminar1-working-with-eeg.ipynb)\n",
    "\n",
    "**План**\n",
    "\n",
    "1. Научиться читать и предобработать данные ЭЭГ\n",
    "2. Использовать Анализ независимых компонент для очищения зашумленных данных \n",
    "3. Научиться рассчитывать ERP (потенциал,связанный с событием)\n",
    "4. Построить топографическое картирование активности головного мозга для ERP\n",
    "5. Расчитать envelopes для бета ритма для ERP\n",
    "6. Рассчитать когерентность\n",
    "7. hw"
   ]
  },
  {
   "cell_type": "code",
   "execution_count": null,
   "metadata": {
    "colab": {
     "base_uri": "https://localhost:8080/"
    },
    "id": "w-2Si_FZDSO8",
    "outputId": "cbd4758d-9ca3-4b82-fdc6-f9c96091d7d5"
   },
   "outputs": [],
   "source": [
    "# For Colab only\n",
    "!pip install mne"
   ]
  },
  {
   "cell_type": "code",
   "execution_count": null,
   "metadata": {
    "id": "M1MU8PIYDSO-"
   },
   "outputs": [],
   "source": [
    "import mne\n",
    "import numpy as np\n",
    "import pandas as pd\n",
    "import matplotlib.pyplot as plt\n",
    "import matplotlib\n",
    "import seaborn as sns"
   ]
  },
  {
   "cell_type": "code",
   "execution_count": null,
   "metadata": {
    "id": "z79HfvdmDSO_"
   },
   "outputs": [],
   "source": [
    "%matplotlib notebook"
   ]
  },
  {
   "cell_type": "markdown",
   "metadata": {
    "id": "cN7NXq3FDSO_"
   },
   "source": [
    "mne.io поддерживает загрузку EEG данных в различных форматах"
   ]
  },
  {
   "cell_type": "markdown",
   "metadata": {
    "id": "SULcKm0vDSPA"
   },
   "source": [
    "Примеры форматов (EDF, FIFF)"
   ]
  },
  {
   "cell_type": "code",
   "execution_count": null,
   "metadata": {
    "colab": {
     "base_uri": "https://localhost:8080/"
    },
    "id": "BIN0hSyTDSPA",
    "outputId": "c17c4dca-e8f4-434d-9dcd-7146f01a75eb",
    "scrolled": true
   },
   "outputs": [],
   "source": [
    "!wget \"https://www.physionet.org/files/eegmmidb/1.0.0/S003/S003R03.edf\""
   ]
  },
  {
   "cell_type": "code",
   "execution_count": null,
   "metadata": {
    "colab": {
     "base_uri": "https://localhost:8080/"
    },
    "id": "3DnmIY5mDSPB",
    "outputId": "459e2b3e-c6ea-4b87-f98a-51c6f5b54e0b"
   },
   "outputs": [],
   "source": [
    "!wget \"https://www.physionet.org/files/eegmmidb/1.0.0/S003/S003R03.edf.event\""
   ]
  },
  {
   "cell_type": "code",
   "execution_count": null,
   "metadata": {
    "colab": {
     "base_uri": "https://localhost:8080/"
    },
    "id": "yT22boXCDSPB",
    "outputId": "12df9409-11fe-4658-d6a3-9b816c4dfb1f"
   },
   "outputs": [],
   "source": [
    "!ls"
   ]
  },
  {
   "cell_type": "code",
   "execution_count": null,
   "metadata": {
    "id": "XQFTWUfoDSPC"
   },
   "outputs": [],
   "source": [
    "sample = mne.io.read_raw_edf('S003R03.edf', verbose=False, preload=True)"
   ]
  },
  {
   "cell_type": "markdown",
   "metadata": {
    "id": "siut0lyaDSPC"
   },
   "source": [
    "Посмотрим какая есть информация о записи ЭЭГ "
   ]
  },
  {
   "cell_type": "code",
   "execution_count": null,
   "metadata": {
    "colab": {
     "base_uri": "https://localhost:8080/",
     "height": 254
    },
    "id": "GY8I3UAcDSPD",
    "outputId": "0b5f91fc-e4e5-47da-8c85-32b3e3768aef"
   },
   "outputs": [],
   "source": [
    "sample.info"
   ]
  },
  {
   "cell_type": "code",
   "execution_count": null,
   "metadata": {
    "colab": {
     "base_uri": "https://localhost:8080/"
    },
    "id": "k0su5Nr0DSPE",
    "outputId": "a8652856-3d44-485f-c14c-c6d4c354b1b0"
   },
   "outputs": [],
   "source": [
    "# Sampling frequency (Частата семплирования)\n",
    "sample.info['sfreq']"
   ]
  },
  {
   "cell_type": "code",
   "execution_count": null,
   "metadata": {
    "colab": {
     "base_uri": "https://localhost:8080/"
    },
    "id": "PoT19z-zDSPE",
    "outputId": "e1450159-ac43-41a5-99d8-f4e18c4bae2b"
   },
   "outputs": [],
   "source": [
    "# Length in seconds ( Длина в секундах)\n",
    "len(sample) / sample.info['sfreq']"
   ]
  },
  {
   "cell_type": "code",
   "execution_count": null,
   "metadata": {
    "colab": {
     "base_uri": "https://localhost:8080/"
    },
    "id": "y8ojwGZEDSPF",
    "outputId": "b8061c2f-5358-4a4f-ecf7-8e9b019e884e"
   },
   "outputs": [],
   "source": [
    "# Number of channels (Количество каналов)\n",
    "len(sample.ch_names)"
   ]
  },
  {
   "cell_type": "markdown",
   "metadata": {
    "id": "cbZ4kVwdDSPF"
   },
   "source": [
    "## Выделние каналов и добавление монтажа"
   ]
  },
  {
   "cell_type": "code",
   "execution_count": null,
   "metadata": {
    "colab": {
     "base_uri": "https://localhost:8080/"
    },
    "id": "6_ovzUlrDSPG",
    "outputId": "94231769-3d18-45ef-bbfe-8b6a370cb831"
   },
   "outputs": [],
   "source": [
    "sample.ch_names[:3]"
   ]
  },
  {
   "cell_type": "code",
   "execution_count": null,
   "metadata": {
    "colab": {
     "base_uri": "https://localhost:8080/"
    },
    "id": "b5_Stcngl-3b",
    "outputId": "0db9bcc8-4d3f-4fa0-dd79-6bebaf09a2bf"
   },
   "outputs": [],
   "source": [
    "sample.ch_names\n"
   ]
  },
  {
   "cell_type": "code",
   "execution_count": null,
   "metadata": {
    "id": "yI5YsWRwDSPG"
   },
   "outputs": [],
   "source": [
    "# fix trailing dots in channel names\n",
    "# use sample.rename_channels(map)\n",
    "\n",
    "# YOUR CODE HERE\n",
    "mne.rename_channels(sample.info,{ch_name: ch_name.replace(\".\", \"\") for ch_name in sample.ch_names})"
   ]
  },
  {
   "cell_type": "code",
   "execution_count": null,
   "metadata": {
    "colab": {
     "base_uri": "https://localhost:8080/"
    },
    "id": "YYyD8GgvDSPG",
    "outputId": "c0db5f26-e6ce-4232-a34b-b70d0686990b"
   },
   "outputs": [],
   "source": [
    "sample.ch_names[:3]"
   ]
  },
  {
   "cell_type": "code",
   "execution_count": null,
   "metadata": {
    "id": "68FSZfA_DSPH"
   },
   "outputs": [],
   "source": [
    "# 19 channels from 10-20. no A1 and A2 here\n",
    "# Be careful. Pure 10-20 labeling differs from high-resolution montages\n",
    "# In MNE, 10-20 montage is actually an extended high-resulution version of 10-20\n",
    "# FYI, mapping from pure 10-20 to high-resolution versions\n",
    "# T3 = T7\n",
    "# T4 = T8\n",
    "# T5 = P7\n",
    "# T6 = P8\n",
    "\n",
    "channels_to_use = [\n",
    "    # prefrontal\n",
    "    'Fp1',\n",
    "    'Fp2',\n",
    "    # frontal\n",
    "    'F7',\n",
    "    'F3',\n",
    "    'F4',\n",
    "    'Fz',\n",
    "    'F8',\n",
    "    # central and temporal\n",
    "    'T7',\n",
    "    'C3',\n",
    "    'Cz',\n",
    "    'C4',\n",
    "    'T8',\n",
    "    # parietal\n",
    "    'P7',\n",
    "    'P3',\n",
    "    'Pz',\n",
    "    'P4',\n",
    "    'P8',\n",
    "    # occipital\n",
    "    'O1',\n",
    "    'O2',\n",
    "]"
   ]
  },
  {
   "cell_type": "code",
   "execution_count": null,
   "metadata": {
    "id": "jSRYf7mwDSPH"
   },
   "outputs": [],
   "source": [
    "sample_1020 = sample.copy().pick_channels(channels_to_use)\n",
    "\n",
    "# check that everything is OK\n",
    "assert len(channels_to_use) == len(sample_1020.ch_names)"
   ]
  },
  {
   "cell_type": "code",
   "execution_count": null,
   "metadata": {
    "id": "xv7HX_viDSPH"
   },
   "outputs": [],
   "source": [
    "ch_map = {ch.lower(): ch for ch in sample_1020.ch_names}"
   ]
  },
  {
   "cell_type": "code",
   "execution_count": null,
   "metadata": {
    "colab": {
     "base_uri": "https://localhost:8080/"
    },
    "id": "rzHTg__6DSPI",
    "outputId": "b1e13bc2-4611-47a6-c95e-a0ac219781c9"
   },
   "outputs": [],
   "source": [
    "ten_twenty_montage = mne.channels.make_standard_montage('standard_1020')\n",
    "len(ten_twenty_montage.ch_names)"
   ]
  },
  {
   "cell_type": "code",
   "execution_count": null,
   "metadata": {
    "id": "soRRaqmfDSPI"
   },
   "outputs": [],
   "source": [
    "ten_twenty_montage.ch_names = [ch_map[ch.lower()] if ch.lower() in ch_map else ch \n",
    "                               for ch in ten_twenty_montage.ch_names]"
   ]
  },
  {
   "cell_type": "code",
   "execution_count": null,
   "metadata": {
    "colab": {
     "base_uri": "https://localhost:8080/",
     "height": 297
    },
    "id": "MNSvS2qQDSPI",
    "outputId": "d279bc90-07d8-4635-b01c-922baf0be6e9"
   },
   "outputs": [],
   "source": [
    "sample_1020.set_montage(ten_twenty_montage)"
   ]
  },
  {
   "cell_type": "code",
   "execution_count": null,
   "metadata": {
    "colab": {
     "base_uri": "https://localhost:8080/",
     "height": 17
    },
    "id": "T-L4ITS1DSPJ",
    "outputId": "60d73f15-7c5f-4f62-d40f-31f2ddc39082"
   },
   "outputs": [],
   "source": [
    "sample_1020.plot_sensors(show_names=True)"
   ]
  },
  {
   "cell_type": "markdown",
   "metadata": {
    "id": "xIJGEvr0DSPJ"
   },
   "source": [
    "## Исследуем сигнал"
   ]
  },
  {
   "cell_type": "markdown",
   "metadata": {},
   "source": [
    "Спектральную плоность мощности сигнала (PSD) - функция, описывающая распределение мощности сигнала от его частоты:\n",
    "\n",
    "$$P =\\lim_{T \\to +\\infty} \\frac{1}{T}\\int_{\\infty}^{-\\infty}|x^2(t)|dt $$\n",
    "\n",
    "\n",
    "\n",
    "\n",
    "$$S(w) =\\lim_{T \\to +\\infty} \\frac{|F_T(w)|^2}{T} = \\int_{\\infty}^{-\\infty} R_{xx}(\\tau)e^{-i2\\pi\\tau}d\\tau $$\n",
    "\n",
    "\n",
    "$R_{xx}$ - функция автокореляции \n",
    "\n",
    "\n",
    "$F_T(w)$ - Фурье преобразование "
   ]
  },
  {
   "cell_type": "code",
   "execution_count": null,
   "metadata": {
    "colab": {
     "base_uri": "https://localhost:8080/",
     "height": 53
    },
    "id": "gt5L_QsUDSPJ",
    "outputId": "f94d814e-34bd-4208-9c72-eb98084bbc6e"
   },
   "outputs": [],
   "source": [
    "sample_1020.plot_psd();"
   ]
  },
  {
   "cell_type": "markdown",
   "metadata": {
    "id": "IZ1YuSHADSPJ"
   },
   "source": [
    "### Band-pass filtering\n",
    "\n",
    "Удалим низкие и высокие частоты < 1 Hz and high-freq > 50Hz (неинформативно для EEG)\n",
    "\n",
    "Используем фильтр Баттерво́рта (default IIR filter)"
   ]
  },
  {
   "cell_type": "code",
   "execution_count": null,
   "metadata": {
    "id": "VV3vZWCIDSPJ",
    "outputId": "d5e451e9-a51e-4392-9431-7783e121e1b5"
   },
   "outputs": [],
   "source": [
    "sample_1020.filter(l_freq=1, h_freq=50, method='iir')"
   ]
  },
  {
   "cell_type": "code",
   "execution_count": null,
   "metadata": {
    "id": "Da22Cks7DSPK"
   },
   "outputs": [],
   "source": [
    "# Plot psd after filtering\n",
    "\n",
    "# YOUR CODE HERE\n"
   ]
  },
  {
   "cell_type": "markdown",
   "metadata": {
    "id": "jKjDIPMTDSPK"
   },
   "source": [
    "### Plot EEG signals"
   ]
  },
  {
   "cell_type": "code",
   "execution_count": null,
   "metadata": {
    "id": "jqzC4b3YDSPK",
    "outputId": "e22a1e53-5e4e-4911-c8af-ab4581804915"
   },
   "outputs": [],
   "source": [
    "sample_1020.plot(n_channels=8, duration=20);"
   ]
  },
  {
   "cell_type": "code",
   "execution_count": null,
   "metadata": {
    "id": "Eh3swnI9DSPK"
   },
   "outputs": [],
   "source": [
    "# Plot in better scale. Use 'scaling' argument\n",
    "\n",
    "# YOUR CODE HERE\n",
    "sample_1020.plot(n_channels=8, duration=20, scalings='auto');"
   ]
  },
  {
   "cell_type": "code",
   "execution_count": null,
   "metadata": {},
   "outputs": [],
   "source": [
    "?sample_1020.plot"
   ]
  },
  {
   "cell_type": "markdown",
   "metadata": {
    "id": "7ZbE9z8dDSPK"
   },
   "source": [
    "## Извлечение событий"
   ]
  },
  {
   "cell_type": "markdown",
   "metadata": {
    "id": "091js-4tDSPK"
   },
   "source": [
    "Mne  \n",
    "\n",
    "* `mne.find_events` используется когда события хранятся в отдельном канале (e.g. FIFF format)\n",
    "* `mne.events_from_annotations` используется когда события хранятся отдельно в аннотациях (EDF+ format)\n",
    "    \n",
    "Посмотрите на документацию в EEG-record формате\n",
    "\n",
    "У нас здесь представлено в EDF+ формате"
   ]
  },
  {
   "cell_type": "code",
   "execution_count": null,
   "metadata": {
    "id": "6w5Cg5hiDSPL",
    "outputId": "e91d6825-f138-4cf7-b8bd-d5b5aba9601d"
   },
   "outputs": [],
   "source": [
    "events, events_dict = mne.events_from_annotations(sample_1020)"
   ]
  },
  {
   "cell_type": "code",
   "execution_count": null,
   "metadata": {},
   "outputs": [],
   "source": [
    "len(sample_1020)"
   ]
  },
  {
   "cell_type": "code",
   "execution_count": null,
   "metadata": {
    "id": "NyEzIXkcDSPL",
    "outputId": "33ef9503-7d6c-49e6-d4a7-38ef2680a0f7"
   },
   "outputs": [],
   "source": [
    "events_dict"
   ]
  },
  {
   "cell_type": "code",
   "execution_count": null,
   "metadata": {
    "id": "1MXnGGE6DSPL",
    "outputId": "b34b1bc8-b507-4b1f-bf93-48b350078140"
   },
   "outputs": [],
   "source": [
    "events[:5]"
   ]
  },
  {
   "cell_type": "code",
   "execution_count": null,
   "metadata": {
    "id": "qJkYJbfWDSPM",
    "outputId": "3feab44f-4169-49dc-ab5d-ee3fe9bed884"
   },
   "outputs": [],
   "source": [
    "epochs = mne.Epochs(sample_1020, events,  tmin=-0.5, tmax=0.8, preload=True)"
   ]
  },
  {
   "cell_type": "code",
   "execution_count": null,
   "metadata": {
    "id": "JLSE-0qADSPM",
    "outputId": "a15ee459-2fda-475a-c267-eb5f21247abb"
   },
   "outputs": [],
   "source": [
    "pd.DataFrame(epochs.events, columns=['_', '__', 'event_id'])['event_id'].value_counts()"
   ]
  },
  {
   "cell_type": "markdown",
   "metadata": {
    "id": "msR6SyKIDSPM"
   },
   "source": [
    "Check that length is right"
   ]
  },
  {
   "cell_type": "code",
   "execution_count": null,
   "metadata": {
    "id": "7ifPBM47DSPN",
    "outputId": "514db47c-b88a-467b-d925-cd0ba792d4f2"
   },
   "outputs": [],
   "source": [
    "for epoch in epochs:\n",
    "    break\n",
    "epoch.shape"
   ]
  },
  {
   "cell_type": "code",
   "execution_count": null,
   "metadata": {
    "id": "DhEN8FSMDSPN",
    "outputId": "a40a103b-a74b-4a39-eb4d-24a94754223a"
   },
   "outputs": [],
   "source": [
    "epoch.shape[1] / sample_1020.info['sfreq']"
   ]
  },
  {
   "cell_type": "code",
   "execution_count": null,
   "metadata": {
    "id": "vpjDEwq0DSPN",
    "outputId": "22884fa6-439f-46bd-efdd-c6b00ed19e4e"
   },
   "outputs": [],
   "source": [
    "sample_1020.to_data_frame().shape"
   ]
  },
  {
   "cell_type": "code",
   "execution_count": null,
   "metadata": {
    "id": "fIJB8v19DSPN",
    "outputId": "29aa6867-89a3-4f75-9ec4-081591a5611d"
   },
   "outputs": [],
   "source": [
    "df = epochs.to_data_frame()\n",
    "df.head(3).iloc[:, :10]"
   ]
  },
  {
   "cell_type": "code",
   "execution_count": null,
   "metadata": {},
   "outputs": [],
   "source": [
    "df[sample_1020.ch_names + ['epoch']].groupby('epoch').agg(lambda arr: arr.max() - arr.min())"
   ]
  },
  {
   "cell_type": "code",
   "execution_count": null,
   "metadata": {
    "id": "9S4pZJfFDSPO",
    "outputId": "4bf63f2a-1ad0-4aac-99d9-3108fb528ac2"
   },
   "outputs": [],
   "source": [
    "df[sample_1020.ch_names + ['epoch']].groupby('epoch').agg(lambda arr: arr.max() - arr.min()).hist(figsize=[10, 10]);\n",
    "plt.tight_layout()"
   ]
  },
  {
   "cell_type": "markdown",
   "metadata": {},
   "source": [
    "мы будем отбрасывать любую эпоху, в которой амплитуда сигнала от пика до пика выходит за разумные пределы для этого типа канала."
   ]
  },
  {
   "cell_type": "code",
   "execution_count": null,
   "metadata": {},
   "outputs": [],
   "source": [
    "600e-6"
   ]
  },
  {
   "cell_type": "code",
   "execution_count": null,
   "metadata": {
    "id": "jmJlB3XDDSPO",
    "outputId": "8277df6a-2355-457f-be82-c8775300c362"
   },
   "outputs": [],
   "source": [
    "epochs = mne.Epochs(sample_1020, events,  tmin=-0.5, tmax=0.8, reject={'eeg': 600e-6}, preload=True, baseline=(-.1, 0))"
   ]
  },
  {
   "cell_type": "markdown",
   "metadata": {
    "id": "zbGmPF7eDSPO"
   },
   "source": [
    "PSD on epochs differs from the raw. More averaging is used"
   ]
  },
  {
   "cell_type": "code",
   "execution_count": null,
   "metadata": {
    "id": "s-DA_NKFDSPO",
    "outputId": "d22aec25-4e86-4100-b593-2ef347ac05ca"
   },
   "outputs": [],
   "source": [
    "epochs.plot_psd();"
   ]
  },
  {
   "cell_type": "code",
   "execution_count": null,
   "metadata": {
    "id": "vJEsXJxiDSPP",
    "outputId": "3cc76197-f7f3-41ad-fcef-7fdab43e8ae5",
    "scrolled": false
   },
   "outputs": [],
   "source": [
    "# epochs.plot(n_channels=8, scalings={'eeg':1e-4});"
   ]
  },
  {
   "cell_type": "code",
   "execution_count": null,
   "metadata": {
    "id": "4Rt2WujyDSPP",
    "outputId": "a635c0f6-4e7c-4e10-a1c4-6047a2d9627e"
   },
   "outputs": [],
   "source": [
    "epochs.event_id"
   ]
  },
  {
   "cell_type": "code",
   "execution_count": null,
   "metadata": {
    "id": "kW-HFxkTDSPP",
    "outputId": "4d8aa822-6a33-4310-d739-a9b0de86cda7"
   },
   "outputs": [],
   "source": [
    "# check number of events of each type\n",
    "# use epochs.events\n",
    "\n",
    "# Your code here\n",
    "\n",
    "pd.DataFrame(epochs.events, columns=['_', '__', 'event_id'])['event_id'].value_counts()"
   ]
  },
  {
   "cell_type": "code",
   "execution_count": null,
   "metadata": {
    "id": "NaWSJFwKDSPP"
   },
   "outputs": [],
   "source": [
    "evoked_T0 = epochs['1'].average()\n",
    "evoked_T1 = epochs['2'].average()\n",
    "evoked_T2 = epochs['3'].average()"
   ]
  },
  {
   "cell_type": "code",
   "execution_count": null,
   "metadata": {
    "id": "UPhCGUlBDSPP",
    "outputId": "6e8d3ddc-bd0a-4eb0-8976-217792be279b"
   },
   "outputs": [],
   "source": [
    "evoked_T0.plot(spatial_colors=True);"
   ]
  },
  {
   "cell_type": "code",
   "execution_count": null,
   "metadata": {
    "id": "iw8bPaHRDSPP",
    "outputId": "e28e806d-4ea4-4f20-96c7-ed55c6e59fb7"
   },
   "outputs": [],
   "source": [
    "evoked_T1.plot(spatial_colors=True);"
   ]
  },
  {
   "cell_type": "code",
   "execution_count": null,
   "metadata": {
    "id": "e-JotMs-DSPQ",
    "outputId": "76121a16-2c6e-4538-c464-d3fdb29b2207"
   },
   "outputs": [],
   "source": [
    "evoked_T2.plot(spatial_colors=True);"
   ]
  },
  {
   "cell_type": "code",
   "execution_count": null,
   "metadata": {
    "id": "EKE6WF6cDSPQ"
   },
   "outputs": [],
   "source": []
  },
  {
   "cell_type": "code",
   "execution_count": null,
   "metadata": {
    "id": "yK9itMKiDSPQ"
   },
   "outputs": [],
   "source": []
  },
  {
   "cell_type": "markdown",
   "metadata": {
    "id": "s1V9e-YpDSPQ"
   },
   "source": [
    "## Independent Component Analysis for Artifact Removal"
   ]
  },
  {
   "cell_type": "code",
   "execution_count": null,
   "metadata": {
    "id": "9BREc1QcDSPQ"
   },
   "outputs": [],
   "source": [
    "ica = mne.preprocessing.ICA(n_components=10, random_state=42)"
   ]
  },
  {
   "cell_type": "code",
   "execution_count": null,
   "metadata": {
    "id": "xfDCA4N7DSPQ",
    "outputId": "0486f834-ddf9-4984-b8f0-45b226f29d24"
   },
   "outputs": [],
   "source": [
    "ica.fit(sample_1020)"
   ]
  },
  {
   "cell_type": "code",
   "execution_count": null,
   "metadata": {
    "id": "0ne4-ymSDSPR",
    "outputId": "c02e4fac-00ec-45f1-d2a5-3b75206b05f0"
   },
   "outputs": [],
   "source": [
    "ica.plot_sources(sample_1020);"
   ]
  },
  {
   "cell_type": "code",
   "execution_count": null,
   "metadata": {
    "id": "jmvVA3NkDSPR",
    "outputId": "9731a728-f985-449e-ed23-018ee34adb5a",
    "scrolled": true
   },
   "outputs": [],
   "source": [
    "ica.plot_components();"
   ]
  },
  {
   "cell_type": "markdown",
   "metadata": {
    "id": "StArSxcpDSPR"
   },
   "source": [
    "Давайте изучим  ICA компоненты более глубоко. Посмотрим на спектограммы. Информация о сегментах здесь не очень актуальна, так как мы строим ICA на необработанных данных.\n",
    "\n",
    "Мы ожидаем увидеть пики альфа- и бета-ритмов на спектрограмме для хороших компонентов (7-13 Гц и 13-30 Гц соответственно). А также небольшое снижение по мере увеличения частоты"
   ]
  },
  {
   "cell_type": "code",
   "execution_count": null,
   "metadata": {
    "id": "sFbMOUCHDSPR",
    "outputId": "2732c009-2597-418f-b789-2fd33be03f42"
   },
   "outputs": [],
   "source": [
    "ica.plot_properties(sample_1020, picks=[1]);"
   ]
  },
  {
   "cell_type": "code",
   "execution_count": null,
   "metadata": {
    "id": "dqWzRopcDSPR",
    "outputId": "26f12379-91df-4dc3-9963-05237bb1bcfe"
   },
   "outputs": [],
   "source": [
    "ica.plot_overlay(sample_1020, exclude=[0,1], picks=['F3']);"
   ]
  },
  {
   "cell_type": "code",
   "execution_count": null,
   "metadata": {
    "id": "oRKU6cmtDSPR"
   },
   "outputs": [],
   "source": [
    "ica.exclude = [0, 1]"
   ]
  },
  {
   "cell_type": "code",
   "execution_count": null,
   "metadata": {
    "id": "3I3u0PUwDSPR"
   },
   "outputs": [],
   "source": [
    "sample_1020_clr = sample_1020.copy()"
   ]
  },
  {
   "cell_type": "code",
   "execution_count": null,
   "metadata": {
    "id": "PxHPy6R_DSPS",
    "outputId": "47b62158-8fa6-4b3c-b992-2c11617d32b5"
   },
   "outputs": [],
   "source": [
    "ica.apply(sample_1020_clr)"
   ]
  },
  {
   "cell_type": "code",
   "execution_count": null,
   "metadata": {
    "id": "h_UJVoTIDSPS"
   },
   "outputs": [],
   "source": [
    "# plot channels\n",
    "\n",
    "# YOUR CODE HERE\n"
   ]
  },
  {
   "cell_type": "code",
   "execution_count": null,
   "metadata": {
    "id": "wnfPR7d1DSPS",
    "outputId": "f08b33f5-496b-49ee-d2b2-65a203634023"
   },
   "outputs": [],
   "source": [
    "epochs = mne.Epochs(sample_1020_clr, events,  tmin=-0.5, tmax=0.8, reject={'eeg': 600e-6}, preload=True, baseline=(-.1, 0))\n"
   ]
  },
  {
   "cell_type": "code",
   "execution_count": null,
   "metadata": {
    "id": "9upIM8HnDSPS"
   },
   "outputs": [],
   "source": [
    "evoked_T0 = epochs['1'].average()\n",
    "evoked_T1 = epochs['2'].average()\n",
    "evoked_T2 = epochs['3'].average()"
   ]
  },
  {
   "cell_type": "code",
   "execution_count": null,
   "metadata": {
    "id": "70-aVCF4DSPS",
    "outputId": "58d34165-40ee-4240-d83b-4542624acb63"
   },
   "outputs": [],
   "source": [
    "evoked_T0.plot(spatial_colors=True);"
   ]
  },
  {
   "cell_type": "code",
   "execution_count": null,
   "metadata": {
    "id": "e1qXRYEVDSPS",
    "outputId": "1c6f4c77-e312-446d-b912-63bb08124ed3"
   },
   "outputs": [],
   "source": [
    "evoked_T1.plot(spatial_colors=True);"
   ]
  },
  {
   "cell_type": "code",
   "execution_count": null,
   "metadata": {
    "id": "Vi-WJ172DSPT",
    "outputId": "a5d00954-0a67-4550-8fb8-6e7efa598926"
   },
   "outputs": [],
   "source": [
    "evoked_T2.plot(spatial_colors=True);"
   ]
  },
  {
   "cell_type": "code",
   "execution_count": null,
   "metadata": {
    "id": "C1i65ZQWDSPT"
   },
   "outputs": [],
   "source": []
  },
  {
   "cell_type": "markdown",
   "metadata": {
    "id": "vYfcH8v5DSPU"
   },
   "source": [
    "## Dynamics of alpha and beta activity"
   ]
  },
  {
   "cell_type": "code",
   "execution_count": null,
   "metadata": {
    "id": "CmxhJNSODSPU"
   },
   "outputs": [],
   "source": [
    "evoked_T0_alpha = evoked_T0.copy().filter(l_freq=7, h_freq=13, method='iir', verbose=False).apply_hilbert(envelope=True)\n",
    "evoked_T1_alpha = evoked_T1.copy().filter(l_freq=7, h_freq=13, method='iir', verbose=False).apply_hilbert(envelope=True)\n",
    "evoked_T2_alpha = evoked_T2.copy().filter(l_freq=7, h_freq=13, method='iir', verbose=False).apply_hilbert(envelope=True)\n"
   ]
  },
  {
   "cell_type": "code",
   "execution_count": null,
   "metadata": {
    "id": "NE5Lk_v1DSPV",
    "outputId": "39040075-598d-451e-e165-6ecf2cf12613"
   },
   "outputs": [],
   "source": [
    "evoked_T1_alpha.plot(spatial_colors=True);"
   ]
  },
  {
   "cell_type": "code",
   "execution_count": null,
   "metadata": {},
   "outputs": [],
   "source": [
    "evoked_T2_alpha.plot(spatial_colors=True);"
   ]
  },
  {
   "cell_type": "code",
   "execution_count": null,
   "metadata": {
    "id": "3MdaL4AqDSPV"
   },
   "outputs": [],
   "source": [
    "evoked_T0_beta_low = evoked_T0.copy().filter(l_freq=13, h_freq=20, method='iir', verbose=False).apply_hilbert(envelope=True)\n",
    "evoked_T1_beta_low = evoked_T1.copy().filter(l_freq=13, h_freq=20, method='iir', verbose=False).apply_hilbert(envelope=True)\n",
    "evoked_T2_beta_low = evoked_T2.copy().filter(l_freq=13, h_freq=20, method='iir', verbose=False).apply_hilbert(envelope=True)\n"
   ]
  },
  {
   "cell_type": "code",
   "execution_count": null,
   "metadata": {},
   "outputs": [],
   "source": [
    "evoked_T0_beta_low"
   ]
  },
  {
   "cell_type": "code",
   "execution_count": null,
   "metadata": {},
   "outputs": [],
   "source": [
    "evoked_T2_alpha.plot(spatial_colors=True);"
   ]
  },
  {
   "cell_type": "markdown",
   "metadata": {
    "id": "o-tg6ot0DSPW"
   },
   "source": [
    "##  Посчитаем функциональную коннективность"
   ]
  },
  {
   "cell_type": "code",
   "execution_count": null,
   "metadata": {
    "id": "mzMEvB-FDSPW",
    "outputId": "03927760-c4cc-462f-df5a-3afa79bd05d5"
   },
   "outputs": [],
   "source": [
    "conn_T1, freqs, times, _, _ = mne.connectivity.spectral_connectivity(epochs['2'], method='coh')"
   ]
  },
  {
   "cell_type": "code",
   "execution_count": null,
   "metadata": {
    "id": "R_wscGh6DSPW"
   },
   "outputs": [],
   "source": [
    "def plot_topomap_connectivity_2d(info, con, picks=None, pairs=None, vmin=None, vmax=None, cm=None, show_values=False, show_names=True):\n",
    "    \"\"\"\n",
    "    Plots connectivity-like data in 2d\n",
    "    \n",
    "    Drawing every pair of channels will likely make a mess\n",
    "    There are two options to avoid it:\n",
    "    - provide picks\n",
    "    - provide specific pairs of channels to draw\n",
    "    \"\"\"\n",
    "    \n",
    "    # get positions\n",
    "    _, pos, _, _, _, _, _ = mne.viz.topomap._prepare_topomap_plot(info, 'eeg');\n",
    "    \n",
    "#     if picks is None and pairs is None:\n",
    "#         picks = info.ch_names\n",
    "    \n",
    "    ch_names_lower = [ch.lower() for ch in info.ch_names]\n",
    "    if picks:\n",
    "        picks_lower = [ch.lower() for ch in picks]\n",
    "    if pairs:\n",
    "        pairs_lower = [tuple(sorted([ch1.lower(), ch2.lower()])) for ch1, ch2 in pairs]\n",
    "    \n",
    "    rows = []\n",
    "    for idx1, ch1 in enumerate(ch_names_lower):\n",
    "        for idx2, ch2 in enumerate(ch_names_lower):\n",
    "            if ch1 >= ch2:\n",
    "                continue\n",
    "            if picks and (ch1 not in picks_lower or ch2 not in picks_lower):\n",
    "                    continue\n",
    "            if pairs and (ch1, ch2) not in pairs_lower:\n",
    "                    continue\n",
    "            rows.append((\n",
    "                pos[idx1],\n",
    "                pos[idx2],\n",
    "                con[idx1, idx2]\n",
    "            ))\n",
    "    \n",
    "    if not len(rows):\n",
    "        raise ValueError('No pairs to plot')\n",
    "    \n",
    "    con_to_plot = np.array([row[2] for row in rows])\n",
    "    if vmin is None:\n",
    "        vmin = np.percentile(con_to_plot, 2)\n",
    "    if vmax is None:\n",
    "        vmax = np.percentile(con_to_plot, 98)\n",
    "    norm = matplotlib.colors.Normalize(vmin=vmin, vmax=vmax)\n",
    "    \n",
    "    if cm is None:\n",
    "        cm = sns.diverging_palette(240, 10, as_cmap=True)\n",
    "    \n",
    "    fig, ax = plt.subplots(figsize=[5, 5])\n",
    "    mne.viz.utils.plot_sensors(info, show_names=show_names, show=False, axes=ax);\n",
    "    for row in rows:\n",
    "        rgba_color = cm(norm(row[2]))\n",
    "        plt.plot([row[0][0], row[1][0]], [row[0][1], row[1][1]], color=rgba_color)\n",
    "        if show_values:\n",
    "            plt.text((row[0][0] + row[1][0]) / 2, \n",
    "                     (row[0][1] + row[1][1]) / 2, \n",
    "                     '{:.2f}'.format(row[2]))"
   ]
  },
  {
   "cell_type": "code",
   "execution_count": null,
   "metadata": {
    "id": "55IuXt0YDSPX"
   },
   "outputs": [],
   "source": [
    "conn_T0, freqs, times, _, _ = mne.connectivity.spectral_connectivity(epochs['1'], method='coh', verbose=False);\n",
    "conn_T1, freqs, times, _, _ = mne.connectivity.spectral_connectivity(epochs['2'], method='coh', verbose=False);\n",
    "conn_T2, freqs, times, _, _ = mne.connectivity.spectral_connectivity(epochs['3'], method='coh', verbose=False);"
   ]
  },
  {
   "cell_type": "code",
   "execution_count": null,
   "metadata": {
    "id": "svpGZKzBDSPX",
    "outputId": "d1747063-3aa7-4e65-b5f1-32144bfc31f1"
   },
   "outputs": [],
   "source": [
    "conn_T0.shape"
   ]
  },
  {
   "cell_type": "code",
   "execution_count": null,
   "metadata": {
    "id": "BQliGkBPDSPX"
   },
   "outputs": [],
   "source": [
    "conn_T0_beta = conn_T0[:, :, 12:27].mean(axis=2)\n",
    "conn_T0_beta = conn_T0_beta + conn_T0_beta.T\n",
    "\n",
    "conn_T1_beta = conn_T1[:, :, 12:27].mean(axis=2)\n",
    "conn_T1_beta = conn_T1_beta + conn_T1_beta.T\n",
    "\n",
    "conn_T2_beta = conn_T2[:, :, 12:27].mean(axis=2)\n",
    "conn_T2_beta = conn_T2_beta + conn_T2_beta.T"
   ]
  },
  {
   "cell_type": "code",
   "execution_count": null,
   "metadata": {},
   "outputs": [],
   "source": [
    "conn_T1.shape"
   ]
  },
  {
   "cell_type": "code",
   "execution_count": null,
   "metadata": {
    "id": "ceuUhRuuDSPX",
    "outputId": "fee0cdb4-2714-4dee-fe1d-1f9e16e2af0b",
    "scrolled": false
   },
   "outputs": [],
   "source": [
    "plot_topomap_connectivity_2d(epochs.info, conn_T1_beta, picks=epochs.ch_names);"
   ]
  },
  {
   "cell_type": "code",
   "execution_count": null,
   "metadata": {
    "id": "JLa3fThHDSPX",
    "outputId": "f7fd91ed-818b-4c90-c748-c7feb490ace2"
   },
   "outputs": [],
   "source": [
    "plot_topomap_connectivity_2d(epochs.info, conn_T0_beta, \n",
    "                             pairs=[('F7', 'F4'), ('O2', 'T7'), ('C3', 'C4'), ('P7', 'P8'), ('F8', 'T8'), ('O1', 'O2'), ('O1', 'P4')],\n",
    "                             show_values=True,\n",
    "                             show_names=False\n",
    "                            \n",
    "                            );\n"
   ]
  },
  {
   "cell_type": "code",
   "execution_count": null,
   "metadata": {
    "id": "E6DiikS0DSPY"
   },
   "outputs": [],
   "source": []
  }
 ],
 "metadata": {
  "colab": {
   "provenance": []
  },
  "kernelspec": {
   "display_name": "Python 3 (ipykernel)",
   "language": "python",
   "name": "python3"
  },
  "language_info": {
   "codemirror_mode": {
    "name": "ipython",
    "version": 3
   },
   "file_extension": ".py",
   "mimetype": "text/x-python",
   "name": "python",
   "nbconvert_exporter": "python",
   "pygments_lexer": "ipython3",
   "version": "3.9.7"
  }
 },
 "nbformat": 4,
 "nbformat_minor": 1
}
